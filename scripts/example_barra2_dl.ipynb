{
 "cells": [
  {
   "cell_type": "markdown",
   "id": "bd28f449f6f885a9",
   "metadata": {},
   "source": [
    "# barra2-dl point data demo\n",
    "This script uses barra2-dl to download BARRA2 AUS11 and AUST04 files for a list of variables. Individual data files will be\n",
    "saved as csv files in a cache folder, then merged into a single pandas dataframe. As a final step the wind ua and va\n",
    "components are converted to v and phi_met, before saving to a new csv file in an output folder.\n",
    "\n",
    "The first step is to import the necessary python packages and modules from barra2_dl. Also from barra2_dl.globals we\n",
    "import some pre-configured default variables to download."
   ]
  },
  {
   "cell_type": "code",
   "execution_count": null,
   "id": "initial_id",
   "metadata": {
    "ExecuteTime": {
     "end_time": "2024-11-15T05:21:03.593021Z",
     "start_time": "2024-11-15T05:21:02.976780Z"
    },
    "collapsed": true
   },
   "outputs": [],
   "source": [
    "from datetime import datetime\n",
    "from pathlib import Path\n",
    "\n",
    "import barra2_dl\n",
    "from barra2_dl.globals import (\n",
    "    BARRA2_INDEX,\n",
    "    BARRA2_URL_AUS11_1HR,\n",
    "    BARRA2_URL_AUST04_1HR,\n",
    "    BARRA2_VAR_WIND_50,\n",
    "    BARRA2_VAR_WIND_DEFAULT,\n",
    ")\n",
    "from barra2_dl.mapping import LatLonPoint"
   ]
  },
  {
   "cell_type": "code",
   "execution_count": null,
   "id": "470fcc3a9662826e",
   "metadata": {
    "ExecuteTime": {
     "end_time": "2024-11-15T04:25:28.524360Z",
     "start_time": "2024-11-15T04:25:28.515095Z"
    }
   },
   "outputs": [],
   "source": [
    "print('BARRA2_INDEX: ' + BARRA2_INDEX.__str__())\n",
    "print('BARRA2_VAR_WIND_50: ' + BARRA2_VAR_WIND_50.__str__())\n",
    "print('BARRA2_VAR_WIND_DEFAULT: ' + BARRA2_VAR_WIND_DEFAULT.__str__())"
   ]
  },
  {
   "cell_type": "markdown",
   "id": "57a49b9ac22e62f7",
   "metadata": {},
   "source": [
    "## Set variables\n",
    "Set the cache and output folders."
   ]
  },
  {
   "cell_type": "code",
   "execution_count": null,
   "id": "7ced08d7cf3824a5",
   "metadata": {
    "ExecuteTime": {
     "end_time": "2024-11-15T04:25:34.692848Z",
     "start_time": "2024-11-15T04:25:34.683661Z"
    }
   },
   "outputs": [],
   "source": [
    "cache_dir = r'cache'\n",
    "output_dir = r'output'"
   ]
  },
  {
   "cell_type": "markdown",
   "id": "5eff58324bae2ead",
   "metadata": {},
   "source": [
    "Set the location point for downloading. This can either be set explicitly as a Dictionary, or using the\n",
    "pre-configured LatLonPoint class in barra2_dl.mapping module. Point data is downloaded to the nearest node."
   ]
  },
  {
   "cell_type": "code",
   "execution_count": null,
   "id": "c60f562d9fa36ff4",
   "metadata": {
    "ExecuteTime": {
     "end_time": "2024-11-15T04:25:38.531426Z",
     "start_time": "2024-11-15T04:25:38.521409Z"
    }
   },
   "outputs": [],
   "source": [
    "# centre of Australia used for demo\n",
    "lat_lon_point = {'lat': -23.5527472, 'lon': 133.3961111}\n",
    "\n",
    "# or use custom class\n",
    "lat_lon_point = LatLonPoint(-23.5527472, 133.3961111)\n",
    "\n",
    "print(lat_lon_point)"
   ]
  },
  {
   "cell_type": "markdown",
   "id": "a82e727493192994",
   "metadata": {},
   "source": [
    "Set start and end time for download."
   ]
  },
  {
   "cell_type": "code",
   "execution_count": null,
   "id": "b175e6fd3bd0531c",
   "metadata": {
    "ExecuteTime": {
     "end_time": "2024-11-15T04:25:47.595269Z",
     "start_time": "2024-11-15T04:25:47.583810Z"
    }
   },
   "outputs": [],
   "source": [
    "start_datetime = datetime.strptime(\"2023-01-01T00:00:00Z\", \"%Y-%m-%dT%H:%M:%SZ\")\n",
    "end_datetime = datetime.strptime(\"2023-03-31T23:00:00Z\", \"%Y-%m-%dT%H:%M:%SZ\")"
   ]
  },
  {
   "cell_type": "markdown",
   "id": "21f3feaf4bcc310f",
   "metadata": {},
   "source": [
    "Set output file custom name prefix to indicate a device or project location for the downloaded data. I.e.\n",
    "use project or location name.\n"
   ]
  },
  {
   "cell_type": "code",
   "execution_count": null,
   "id": "a8941d84d23166c6",
   "metadata": {
    "ExecuteTime": {
     "end_time": "2024-11-15T04:25:49.600790Z",
     "start_time": "2024-11-15T04:25:49.593782Z"
    }
   },
   "outputs": [],
   "source": [
    "fileout_prefix = \"demo\""
   ]
  },
  {
   "cell_type": "markdown",
   "id": "9e004f5a018f769f",
   "metadata": {},
   "source": [
    "## Download point data\n",
    "Use point_data_urlfilenames and download_multithread to download the closest node for the desired variables into the target cache folder."
   ]
  },
  {
   "cell_type": "code",
   "execution_count": null,
   "id": "6eb2061081ab7697",
   "metadata": {
    "ExecuteTime": {
     "end_time": "2024-11-15T04:25:52.781921Z",
     "start_time": "2024-11-15T04:25:51.281738Z"
    }
   },
   "outputs": [],
   "source": [
    "urlfilenames = barra2_dl.download.point_data_urlfilenames(\n",
    "    barra2_url = barra2_aus11_url,\n",
    "    barra2_vars = barra2_var_wind_default,\n",
    "    latitude = lat_lon_point.lat,\n",
    "    longitude = lat_lon_point.lon,\n",
    "    start_datetime= start_datetime,\n",
    "    end_datetime = end_datetime,\n",
    "    fileout_prefix = fileout_prefix,\n",
    ")\n",
    "# Use download_multithread with n-1 threads or download_serial with 1 thread\n",
    "barra2_dl.download.download_multithread(urlfilenames, cache_dir)"
   ]
  },
  {
   "cell_type": "markdown",
   "id": "6a0852832b636755",
   "metadata": {},
   "source": [
    "## Combine data\n",
    "Merge downloaded csvs into a new dataframe. Optionally export merged data to a new csv."
   ]
  },
  {
   "cell_type": "code",
   "execution_count": null,
   "id": "12548db7293cfa01",
   "metadata": {
    "ExecuteTime": {
     "end_time": "2024-11-15T03:59:52.196620Z",
     "start_time": "2024-11-15T03:59:52.042719Z"
    }
   },
   "outputs": [],
   "source": [
    "df_merged = barra2_dl.merge.merge_csvs_to_df(\n",
    "    filein_folder= cache_dir,\n",
    "    filename_pattern=f'{fileout_prefix}*.csv',\n",
    "    index_for_join=BARRA2_AUS11_INDEX,\n",
    ")\n",
    "print(df_merged.head())"
   ]
  },
  {
   "cell_type": "code",
   "execution_count": null,
   "id": "9fcabb6dab8b3f7c",
   "metadata": {
    "ExecuteTime": {
     "end_time": "2024-11-15T04:00:02.498526Z",
     "start_time": "2024-11-15T04:00:02.475887Z"
    }
   },
   "outputs": [],
   "source": [
    "df_merged.to_csv(Path(output_dir) / f\"{fileout_prefix}_merged_{start_datetime.strftime(\"%Y%m%d\")}_{end_datetime.strftime(\"%Y%m%d\")}.csv\", index=False)"
   ]
  },
  {
   "cell_type": "markdown",
   "id": "eb904b882389f8d8",
   "metadata": {},
   "source": [
    "## Convert wind speed components\n",
    "Using the merged dataframe, convert ua and va to v and phi_met, and export to new csv file"
   ]
  },
  {
   "cell_type": "code",
   "execution_count": null,
   "id": "9dd54cba096e6ea2",
   "metadata": {
    "ExecuteTime": {
     "end_time": "2024-11-15T04:00:04.917610Z",
     "start_time": "2024-11-15T04:00:04.876010Z"
    }
   },
   "outputs": [],
   "source": [
    "df_converted = barra2_dl.convert.convert_wind_components(df_merged)\n",
    "print(df_converted.head())"
   ]
  },
  {
   "cell_type": "code",
   "execution_count": null,
   "id": "1eb0d0354648eef4",
   "metadata": {
    "ExecuteTime": {
     "end_time": "2024-11-15T04:00:07.587564Z",
     "start_time": "2024-11-15T04:00:07.559323Z"
    }
   },
   "outputs": [],
   "source": [
    "df_converted.to_csv(Path(output_dir) / f\"{fileout_prefix}_converted_{start_datetime.strftime(\"%Y%m%d\")}_{end_datetime.strftime(\"%Y%m%d\")}.csv\", index=False)"
   ]
  },
  {
   "cell_type": "markdown",
   "id": "cc2c7f69e36cdfe8",
   "metadata": {},
   "source": [
    "The merged and converted data is now ready to import into your favourite wind analysis program..."
   ]
  }
 ],
 "metadata": {
  "kernelspec": {
   "display_name": "Python 3",
   "language": "python",
   "name": "python3"
  },
  "language_info": {
   "codemirror_mode": {
    "name": "ipython",
    "version": 3
   },
   "file_extension": ".py",
   "mimetype": "text/x-python",
   "name": "python",
   "nbconvert_exporter": "python",
   "pygments_lexer": "ipython3",
   "version": "3.12.6"
  }
 },
 "nbformat": 4,
 "nbformat_minor": 5
}
