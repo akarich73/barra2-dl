{
 "cells": [
  {
   "metadata": {},
   "cell_type": "markdown",
   "source": [
    "# barra2-dl point data demo\n",
    "This script uses barra2-dl to download BARRA2 AUS11 files for a list of variables. Individual data files will be \n",
    "saved as csv files in a cache folder, then merged into a single pandas dataframe. As a final step the wind ua and va \n",
    "components are converted to v and phi_met, before saving to a new csv file in an output folder.\n",
    "\n",
    "The first step is to import the necessary python packages and modules from barra2_dl. Also from barra2_dl.globals we \n",
    "import some pre-configured default variables."
   ],
   "id": "bd28f449f6f885a9"
  },
  {
   "cell_type": "code",
   "id": "initial_id",
   "metadata": {
    "collapsed": true,
    "ExecuteTime": {
     "end_time": "2024-11-09T23:48:31.290457Z",
     "start_time": "2024-11-09T23:48:31.282680Z"
    }
   },
   "source": [
    "from datetime import datetime\n",
    "from pathlib import Path\n",
    "\n",
    "import barra2_dl\n",
    "from barra2_dl.globals import barra2_var_wind_50m, barra2_var_wind_custom, BARRA2_AUS11_INDEX"
   ],
   "outputs": [],
   "execution_count": 17
  },
  {
   "metadata": {
    "ExecuteTime": {
     "end_time": "2024-11-09T23:48:31.423836Z",
     "start_time": "2024-11-09T23:48:31.413302Z"
    }
   },
   "cell_type": "code",
   "source": [
    "print('BARRA2_AUS11_INDEX: ' + BARRA2_AUS11_INDEX.__str__())\n",
    "print('barra2_var_wind_50m: ' + barra2_var_wind_50m.__str__())\n",
    "print('barra2_var_wind_custom: ' + barra2_var_wind_custom.__str__())"
   ],
   "id": "470fcc3a9662826e",
   "outputs": [
    {
     "name": "stdout",
     "output_type": "stream",
     "text": [
      "BARRA2_AUS11_INDEX: ['time', 'station', 'latitude[unit=\"degrees_north\"]', 'longitude[unit=\"degrees_east\"]']\n",
      "barra2_var_wind_50m: ['ua50m', 'va50m', 'ta50m']\n",
      "barra2_var_wind_custom: ['ua50m', 'va50m', 'ua100m', 'va100m', 'ua150m', 'va150m', 'ta50m']\n"
     ]
    }
   ],
   "execution_count": 18
  },
  {
   "metadata": {},
   "cell_type": "markdown",
   "source": [
    "## Set variables\n",
    "Set the cache and output folders."
   ],
   "id": "57a49b9ac22e62f7"
  },
  {
   "metadata": {
    "ExecuteTime": {
     "end_time": "2024-11-09T23:50:47.764817Z",
     "start_time": "2024-11-09T23:50:47.757696Z"
    }
   },
   "cell_type": "code",
   "source": [
    "cache_dir = r'cache'\n",
    "output_dir = r'output'"
   ],
   "id": "7ced08d7cf3824a5",
   "outputs": [],
   "execution_count": 30
  },
  {
   "metadata": {},
   "cell_type": "markdown",
   "source": [
    "Set the location point for downloading. This can either be set explicitly as a Dictionary, or using the \n",
    "pre-configured LatLonPoint class in barra2_dl.mapping module. Point data is downloaded to the nearest node. "
   ],
   "id": "5eff58324bae2ead"
  },
  {
   "metadata": {
    "ExecuteTime": {
     "end_time": "2024-11-09T23:48:31.669741Z",
     "start_time": "2024-11-09T23:48:31.661433Z"
    }
   },
   "cell_type": "code",
   "source": [
    "lat_lon_point = dict(lat=-23.5527472, lon=133.3961111)\n",
    "from barra2_dl.mapping import LatLonPoint\n",
    "lat_lon_point = LatLonPoint(lat=-23.5527472, lon=133.3961111)\n",
    "\n",
    "print(lat_lon_point)"
   ],
   "id": "c60f562d9fa36ff4",
   "outputs": [
    {
     "name": "stdout",
     "output_type": "stream",
     "text": [
      "{'lat': -23.5527472, 'lon': 133.3961111}\n"
     ]
    }
   ],
   "execution_count": 20
  },
  {
   "metadata": {},
   "cell_type": "markdown",
   "source": "Set start and end time for download.",
   "id": "a82e727493192994"
  },
  {
   "metadata": {
    "ExecuteTime": {
     "end_time": "2024-11-09T23:48:31.755512Z",
     "start_time": "2024-11-09T23:48:31.747073Z"
    }
   },
   "cell_type": "code",
   "source": [
    "start_datetime = datetime.strptime(\"2023-01-01T00:00:00Z\", \"%Y-%m-%dT%H:%M:%SZ\")\n",
    "end_datetime = datetime.strptime(\"2023-03-31T23:00:00Z\", \"%Y-%m-%dT%H:%M:%SZ\")"
   ],
   "id": "b175e6fd3bd0531c",
   "outputs": [],
   "execution_count": 21
  },
  {
   "metadata": {},
   "cell_type": "markdown",
   "source": [
    "Set output file custom name prefix to indicate a device or project location for the downloaded data. I.e. \n",
    "use project or location name.\n"
   ],
   "id": "21f3feaf4bcc310f"
  },
  {
   "metadata": {
    "ExecuteTime": {
     "end_time": "2024-11-09T23:48:31.814949Z",
     "start_time": "2024-11-09T23:48:31.809142Z"
    }
   },
   "cell_type": "code",
   "source": "fileout_prefix = \"demo\"",
   "id": "a8941d84d23166c6",
   "outputs": [],
   "execution_count": 22
  },
  {
   "metadata": {},
   "cell_type": "markdown",
   "source": [
    "## Download point data\n",
    "Use get_point_data to download closest node for the desired variables into the target cache folder."
   ],
   "id": "9e004f5a018f769f"
  },
  {
   "metadata": {
    "ExecuteTime": {
     "end_time": "2024-11-09T23:50:54.109844Z",
     "start_time": "2024-11-09T23:50:54.084674Z"
    }
   },
   "cell_type": "code",
   "source": [
    "barra2_dl.download.get_point_data(\n",
    "    barra2_var_wind_50m,\n",
    "    lat_lon_point,\n",
    "    start_datetime,\n",
    "    end_datetime,\n",
    "    fileout_prefix = fileout_prefix,\n",
    "    fileout_folder= cache_dir,\n",
    ")"
   ],
   "id": "6eb2061081ab7697",
   "outputs": [
    {
     "name": "stdout",
     "output_type": "stream",
     "text": [
      "<demo_ua50m_20230101_20230131.csv> already exists in the folder <cache>\n",
      "<demo_ua50m_20230201_20230228.csv> already exists in the folder <cache>\n",
      "<demo_ua50m_20230301_20230331.csv> already exists in the folder <cache>\n",
      "<demo_va50m_20230101_20230131.csv> already exists in the folder <cache>\n",
      "<demo_va50m_20230201_20230228.csv> already exists in the folder <cache>\n",
      "<demo_va50m_20230301_20230331.csv> already exists in the folder <cache>\n",
      "<demo_ta50m_20230101_20230131.csv> already exists in the folder <cache>\n",
      "<demo_ta50m_20230201_20230228.csv> already exists in the folder <cache>\n",
      "<demo_ta50m_20230301_20230331.csv> already exists in the folder <cache>\n"
     ]
    }
   ],
   "execution_count": 31
  },
  {
   "metadata": {},
   "cell_type": "markdown",
   "source": [
    "## Combine data \n",
    "Merge downloaded csvs into a new dataframe. Optionally export merged data to a new csv. "
   ],
   "id": "6a0852832b636755"
  },
  {
   "metadata": {
    "ExecuteTime": {
     "end_time": "2024-11-09T23:51:39.322726Z",
     "start_time": "2024-11-09T23:51:39.144094Z"
    }
   },
   "cell_type": "code",
   "source": [
    "df_merged = barra2_dl.merge.merge_csvs_to_df(cache_dir, index_for_join=BARRA2_AUS11_INDEX)\n",
    "print(df_merged.head())"
   ],
   "id": "12548db7293cfa01",
   "outputs": [
    {
     "name": "stdout",
     "output_type": "stream",
     "text": [
      "Merged file: cache\\demo_ta50m_20230201_20230228.csv\n",
      "Merged file: cache\\demo_ta50m_20230301_20230331.csv\n",
      "Merged file: cache\\demo_ua50m_20230101_20230131.csv\n",
      "Merged file: cache\\demo_ua50m_20230201_20230228.csv\n",
      "Merged file: cache\\demo_ua50m_20230301_20230331.csv\n",
      "Merged file: cache\\demo_va50m_20230101_20230131.csv\n",
      "Merged file: cache\\demo_va50m_20230201_20230228.csv\n",
      "Merged file: cache\\demo_va50m_20230301_20230331.csv\n",
      "                   time                                 station  \\\n",
      "0  2023-01-01T00:00:00Z  GridPointRequestedAt[23.553S_133.396E]   \n",
      "1  2023-01-01T01:00:00Z  GridPointRequestedAt[23.553S_133.396E]   \n",
      "2  2023-01-01T02:00:00Z  GridPointRequestedAt[23.553S_133.396E]   \n",
      "3  2023-01-01T03:00:00Z  GridPointRequestedAt[23.553S_133.396E]   \n",
      "4  2023-01-01T04:00:00Z  GridPointRequestedAt[23.553S_133.396E]   \n",
      "\n",
      "   latitude[unit=\"degrees_north\"]  longitude[unit=\"degrees_east\"]  \\\n",
      "0                          -23.54                          133.36   \n",
      "1                          -23.54                          133.36   \n",
      "2                          -23.54                          133.36   \n",
      "3                          -23.54                          133.36   \n",
      "4                          -23.54                          133.36   \n",
      "\n",
      "   ta50m[unit=\"K\"]  ua50m[unit=\"m s-1\"]  va50m[unit=\"m s-1\"]  \n",
      "0       300.110962            -3.385254            -2.505127  \n",
      "1       301.610962            -5.174316            -2.976562  \n",
      "2       303.607483            -7.213135            -3.572754  \n",
      "3       304.360962            -8.184570            -2.755127  \n",
      "4       304.985962            -8.997070            -2.101562  \n"
     ]
    }
   ],
   "execution_count": 33
  },
  {
   "metadata": {
    "ExecuteTime": {
     "end_time": "2024-11-09T23:52:01.433729Z",
     "start_time": "2024-11-09T23:52:01.355303Z"
    }
   },
   "cell_type": "code",
   "source": "df_merged.to_csv(Path(output_dir) / f\"{fileout_prefix}_merged_{start_datetime.strftime(\"%Y%m%d\")}_{end_datetime.strftime(\"%Y%m%d\")}.csv\", index=False)",
   "id": "9fcabb6dab8b3f7c",
   "outputs": [],
   "execution_count": 34
  },
  {
   "metadata": {},
   "cell_type": "markdown",
   "source": [
    "## Convert wind speed components\n",
    "Using the merged dataframe, convert ua and va to v and phi_met, and export to new csv file"
   ],
   "id": "eb904b882389f8d8"
  },
  {
   "metadata": {
    "ExecuteTime": {
     "end_time": "2024-11-09T23:52:48.989244Z",
     "start_time": "2024-11-09T23:52:48.892135Z"
    }
   },
   "cell_type": "code",
   "source": [
    "df_converted = barra2_dl.convert.convert_wind_components(df_merged)\n",
    "print(df_converted.head())"
   ],
   "id": "9dd54cba096e6ea2",
   "outputs": [
    {
     "name": "stdout",
     "output_type": "stream",
     "text": [
      "Converting: ua50m[unit=\"m s-1\"], va50m[unit=\"m s-1\"]\n",
      "                   time                                 station  \\\n",
      "0  2023-01-01T00:00:00Z  GridPointRequestedAt[23.553S_133.396E]   \n",
      "1  2023-01-01T01:00:00Z  GridPointRequestedAt[23.553S_133.396E]   \n",
      "2  2023-01-01T02:00:00Z  GridPointRequestedAt[23.553S_133.396E]   \n",
      "3  2023-01-01T03:00:00Z  GridPointRequestedAt[23.553S_133.396E]   \n",
      "4  2023-01-01T04:00:00Z  GridPointRequestedAt[23.553S_133.396E]   \n",
      "\n",
      "   latitude[unit=\"degrees_north\"]  longitude[unit=\"degrees_east\"]  \\\n",
      "0                          -23.54                          133.36   \n",
      "1                          -23.54                          133.36   \n",
      "2                          -23.54                          133.36   \n",
      "3                          -23.54                          133.36   \n",
      "4                          -23.54                          133.36   \n",
      "\n",
      "   ta50m[unit=\"K\"]  ua50m[unit=\"m s-1\"]  va50m[unit=\"m s-1\"]  \\\n",
      "0       300.110962            -3.385254            -2.505127   \n",
      "1       301.610962            -5.174316            -2.976562   \n",
      "2       303.607483            -7.213135            -3.572754   \n",
      "3       304.360962            -8.184570            -2.755127   \n",
      "4       304.985962            -8.997070            -2.101562   \n",
      "\n",
      "   v50m[unit=\"m s-1\"]  v50m_phi_met[unit=\"degrees\"]  \n",
      "0            4.211366                     53.498132  \n",
      "1            5.969378                     60.090027  \n",
      "2            8.049465                     63.650223  \n",
      "3            8.635851                     71.395506  \n",
      "4            9.239255                     76.852413  \n"
     ]
    }
   ],
   "execution_count": 36
  },
  {
   "metadata": {
    "ExecuteTime": {
     "end_time": "2024-11-09T23:53:00.540262Z",
     "start_time": "2024-11-09T23:53:00.431645Z"
    }
   },
   "cell_type": "code",
   "source": "df_converted.to_csv(Path(output_dir) / f\"{fileout_prefix}_converted_{start_datetime.strftime(\"%Y%m%d\")}_{end_datetime.strftime(\"%Y%m%d\")}.csv\", index=False)",
   "id": "1eb0d0354648eef4",
   "outputs": [],
   "execution_count": 37
  },
  {
   "metadata": {},
   "cell_type": "markdown",
   "source": "The merged and converted data is now ready to import into your favourite wind analysis program...",
   "id": "cc2c7f69e36cdfe8"
  }
 ],
 "metadata": {
  "kernelspec": {
   "display_name": "Python 3",
   "language": "python",
   "name": "python3"
  },
  "language_info": {
   "codemirror_mode": {
    "name": "ipython",
    "version": 2
   },
   "file_extension": ".py",
   "mimetype": "text/x-python",
   "name": "python",
   "nbconvert_exporter": "python",
   "pygments_lexer": "ipython2",
   "version": "2.7.6"
  }
 },
 "nbformat": 4,
 "nbformat_minor": 5
}
