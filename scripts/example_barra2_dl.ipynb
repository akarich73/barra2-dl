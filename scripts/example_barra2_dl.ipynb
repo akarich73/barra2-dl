{
 "cells": [
  {
   "metadata": {},
   "cell_type": "markdown",
   "source": "# barra2-dl demo to download point data",
   "id": "bd28f449f6f885a9"
  },
  {
   "cell_type": "code",
   "execution_count": null,
   "id": "initial_id",
   "metadata": {
    "collapsed": true
   },
   "outputs": [],
   "source": [
    "from datetime import datetime\n",
    "from pathlib import Path\n",
    "\n",
    "import barra2_dl\n",
    "import barra2_dl.convert\n",
    "from barra2_dl.globals import BARRA2_AUS11_WIND_VARS, barra2_var_wind_50m, BARRA2_AUS11_INDEX"
   ]
  },
  {
   "metadata": {},
   "cell_type": "markdown",
   "source": [
    "Set the cache and output folders. Individual barra2 files will be saved in the cache folder, then merged into a \n",
    "single output file."
   ],
   "id": "57a49b9ac22e62f7"
  },
  {
   "metadata": {},
   "cell_type": "code",
   "outputs": [],
   "execution_count": null,
   "source": [
    "cache_dir = r'scripts\\cache'\n",
    "output_dir = r'scripts\\output'"
   ],
   "id": "7ced08d7cf3824a5"
  },
  {
   "metadata": {},
   "cell_type": "markdown",
   "source": "Set the location point for downloading. Point data will be downloaded to the nearest node. ",
   "id": "5eff58324bae2ead"
  },
  {
   "metadata": {},
   "cell_type": "code",
   "outputs": [],
   "execution_count": null,
   "source": "lat_lon_point = dict(lat=-23.5527472, lon=133.3961111)",
   "id": "c60f562d9fa36ff4"
  },
  {
   "metadata": {},
   "cell_type": "markdown",
   "source": "Set start and end time for download.",
   "id": "a82e727493192994"
  },
  {
   "metadata": {},
   "cell_type": "code",
   "outputs": [],
   "execution_count": null,
   "source": [
    "start_datetime = datetime.strptime(\"2023-01-01T00:00:00Z\", \"%Y-%m-%dT%H:%M:%SZ\")\n",
    "end_datetime = datetime.strptime(\"2023-03-31T23:00:00Z\", \"%Y-%m-%dT%H:%M:%SZ\")"
   ],
   "id": "b175e6fd3bd0531c"
  },
  {
   "metadata": {},
   "cell_type": "markdown",
   "source": [
    "Optionally set output file custom name prefix to indicate a device or project location for the downloaded data. I.e. \n",
    "use project or location name.\n"
   ],
   "id": "21f3feaf4bcc310f"
  },
  {
   "metadata": {},
   "cell_type": "code",
   "outputs": [],
   "execution_count": null,
   "source": "output_file_prefix = \"demo\"\n",
   "id": "a8941d84d23166c6"
  },
  {
   "metadata": {},
   "cell_type": "markdown",
   "source": "",
   "id": "8094b22254b3f8fb"
  },
  {
   "metadata": {},
   "cell_type": "markdown",
   "source": "Download point data using barra2_dl",
   "id": "9e004f5a018f769f"
  },
  {
   "metadata": {},
   "cell_type": "code",
   "outputs": [],
   "execution_count": null,
   "source": [
    "barra2_dl.download.get_point_data(\n",
    "    barra2_var_wind_50m,\n",
    "    lat_lon_point,\n",
    "    start_datetime,\n",
    "    end_datetime,\n",
    "    fileout_prefix = output_file_prefix,\n",
    "    fileout_folder= cache_dir,\n",
    ")"
   ],
   "id": "6eb2061081ab7697"
  },
  {
   "metadata": {},
   "cell_type": "markdown",
   "source": "Merge downloaded csvs into a new dataframe",
   "id": "6a0852832b636755"
  },
  {
   "metadata": {},
   "cell_type": "code",
   "outputs": [],
   "execution_count": null,
   "source": [
    "df_merged = barra2_dl.merge.merge_csvs_to_df(r\"C:\\Users\\rich_\\OneDrive\\Desktop\\rich\\myProjects\\GitHub\\barra2-dl\\scripts\\cache\", index_for_join=BARRA2_AUS11_INDEX)\n",
    "# output to a new csv file\n",
    "df_merged.to_csv(\n",
    "    Path(output_dir) / f\"{output_filename_prefix}_merged_{start_datetime.strftime(\"%Y%m%d\")}_{end_datetime.strftime(\"%Y%m%d\")}.csv\",\n",
    "    index=False)"
   ],
   "id": "12548db7293cfa01"
  },
  {
   "metadata": {},
   "cell_type": "markdown",
   "source": "Convert ua and va to v and phi_met, and output to new csv file",
   "id": "eb904b882389f8d8"
  },
  {
   "metadata": {},
   "cell_type": "code",
   "outputs": [],
   "execution_count": null,
   "source": [
    "df_converted = barra2_dl.convert.convert_wind_components(df_merged)\n",
    "\n",
    "df_converted.to_csv(\n",
    "    Path(output_dir) / f\"{output_file_prefix}_converted_{start_datetime.strftime(\"%Y%m%d\")}_{end_datetime.strftime(\"%Y%m%d\")}.csv\",\n",
    "    index=False)"
   ],
   "id": "9dd54cba096e6ea2"
  }
 ],
 "metadata": {
  "kernelspec": {
   "display_name": "Python 3",
   "language": "python",
   "name": "python3"
  },
  "language_info": {
   "codemirror_mode": {
    "name": "ipython",
    "version": 2
   },
   "file_extension": ".py",
   "mimetype": "text/x-python",
   "name": "python",
   "nbconvert_exporter": "python",
   "pygments_lexer": "ipython2",
   "version": "2.7.6"
  }
 },
 "nbformat": 4,
 "nbformat_minor": 5
}
