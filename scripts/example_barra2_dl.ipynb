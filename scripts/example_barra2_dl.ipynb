{
 "cells": [
  {
   "cell_type": "markdown",
   "id": "bd28f449f6f885a9",
   "metadata": {},
   "source": [
    "# barra2-dl point data demo\n",
    "This script uses barra2-dl to download BARRA2 AUS11 and AUST04 files for a list of variables. Individual data files will be\n",
    "saved as csv files in a cache folder, then merged into a single pandas dataframe. As a final step the wind ua and va\n",
    "components are converted to v and phi_met, before saving to a new csv file in an output folder.\n",
    "\n",
    "The first step is to import the necessary python packages and modules from barra2_dl. Also from barra2_dl.globals we\n",
    "import some pre-configured default variables to download."
   ]
  },
  {
   "cell_type": "code",
   "execution_count": null,
   "id": "initial_id",
   "metadata": {
    "ExecuteTime": {
     "end_time": "2024-11-15T05:21:03.593021Z",
     "start_time": "2024-11-15T05:21:02.976780Z"
    },
    "collapsed": true
   },
<<<<<<< HEAD
   "outputs": [],
=======
   "outputs": [
    {
     "ename": "",
     "evalue": "",
     "output_type": "error",
     "traceback": [
      "\u001b[1;31mRunning cells with 'Python 3.12.6' requires the ipykernel package.\n",
      "\u001b[1;31mRun the following command to install 'ipykernel' into the Python environment. \n",
      "\u001b[1;31mCommand: 'c:/Users/rich_/AppData/Local/Programs/Python/Python312/python.exe -m pip install ipykernel -U --user --force-reinstall'"
     ]
    }
   ],
>>>>>>> origin/main
   "source": [
    "from datetime import datetime\n",
    "from pathlib import Path\n",
    "\n",
    "import barra2_dl\n",
<<<<<<< HEAD
    "from barra2_dl.globals import (\n",
    "    BARRA2_INDEX,\n",
    "    BARRA2_URL_AUS11_1HR,\n",
    "    BARRA2_URL_AUST04_1HR,\n",
    "    BARRA2_VAR_WIND_50,\n",
    "    BARRA2_VAR_WIND_DEFAULT,\n",
    ")\n",
=======
    "from barra2_dl.globals import barra2_var_wind_50m, barra2_var_wind_default, BARRA2_AUS11_INDEX\n",
>>>>>>> origin/main
    "from barra2_dl.mapping import LatLonPoint"
   ]
  },
  {
   "cell_type": "code",
   "execution_count": null,
   "id": "470fcc3a9662826e",
   "metadata": {
    "ExecuteTime": {
     "end_time": "2024-11-15T04:25:28.524360Z",
     "start_time": "2024-11-15T04:25:28.515095Z"
    }
   },
<<<<<<< HEAD
   "outputs": [],
   "source": [
    "print('BARRA2_INDEX: ' + BARRA2_INDEX.__str__())\n",
    "print('BARRA2_VAR_WIND_50: ' + BARRA2_VAR_WIND_50.__str__())\n",
    "print('BARRA2_VAR_WIND_DEFAULT: ' + BARRA2_VAR_WIND_DEFAULT.__str__())"
=======
   "outputs": [
    {
     "name": "stdout",
     "output_type": "stream",
     "text": [
      "BARRA2_AUS11_INDEX: ['time', 'station', 'latitude[unit=\"degrees_north\"]', 'longitude[unit=\"degrees_east\"]']\n",
      "barra2_var_wind_50m: ['ua50m', 'va50m', 'ta50m']\n",
      "barra2_var_wind_default: ['ua50m', 'va50m', 'ua100m', 'va100m', 'ua150m', 'va150m', 'ta50m']\n"
     ]
    }
   ],
   "source": [
    "print('BARRA2_AUS11_INDEX: ' + BARRA2_AUS11_INDEX.__str__())\n",
    "print('barra2_var_wind_50m: ' + barra2_var_wind_50m.__str__())\n",
    "print('barra2_var_wind_default: ' + barra2_var_wind_default.__str__())"
>>>>>>> origin/main
   ]
  },
  {
   "cell_type": "markdown",
   "id": "57a49b9ac22e62f7",
   "metadata": {},
   "source": [
    "## Set variables\n",
    "Set the cache and output folders."
   ]
  },
  {
   "cell_type": "code",
   "execution_count": null,
   "id": "7ced08d7cf3824a5",
   "metadata": {
    "ExecuteTime": {
     "end_time": "2024-11-15T04:25:34.692848Z",
     "start_time": "2024-11-15T04:25:34.683661Z"
    }
   },
   "outputs": [],
   "source": [
    "cache_dir = r'cache'\n",
    "output_dir = r'output'"
   ]
  },
  {
   "cell_type": "markdown",
   "id": "5eff58324bae2ead",
   "metadata": {},
   "source": [
    "Set the location point for downloading. This can either be set explicitly as a Dictionary, or using the\n",
    "pre-configured LatLonPoint class in barra2_dl.mapping module. Point data is downloaded to the nearest node."
   ]
  },
  {
   "cell_type": "code",
   "execution_count": null,
   "id": "c60f562d9fa36ff4",
   "metadata": {
    "ExecuteTime": {
     "end_time": "2024-11-15T04:25:38.531426Z",
     "start_time": "2024-11-15T04:25:38.521409Z"
    }
   },
<<<<<<< HEAD
   "outputs": [],
=======
   "outputs": [
    {
     "name": "stdout",
     "output_type": "stream",
     "text": [
      "LatLonPoint(lat=-23.5527472, lon=133.3961111)\n"
     ]
    }
   ],
>>>>>>> origin/main
   "source": [
    "# centre of Australia used for demo\n",
    "lat_lon_point = {'lat': -23.5527472, 'lon': 133.3961111}\n",
    "\n",
    "# or use custom class\n",
    "lat_lon_point = LatLonPoint(-23.5527472, 133.3961111)\n",
    "\n",
    "print(lat_lon_point)"
   ]
  },
  {
   "cell_type": "markdown",
   "id": "a82e727493192994",
   "metadata": {},
   "source": [
    "Set start and end time for download."
   ]
  },
  {
   "cell_type": "code",
   "execution_count": null,
   "id": "b175e6fd3bd0531c",
   "metadata": {
    "ExecuteTime": {
     "end_time": "2024-11-15T04:25:47.595269Z",
     "start_time": "2024-11-15T04:25:47.583810Z"
    }
   },
   "outputs": [],
   "source": [
    "start_datetime = datetime.strptime(\"2023-01-01T00:00:00Z\", \"%Y-%m-%dT%H:%M:%SZ\")\n",
    "end_datetime = datetime.strptime(\"2023-03-31T23:00:00Z\", \"%Y-%m-%dT%H:%M:%SZ\")"
   ]
  },
  {
   "cell_type": "markdown",
   "id": "21f3feaf4bcc310f",
   "metadata": {},
   "source": [
    "Set output file custom name prefix to indicate a device or project location for the downloaded data. I.e.\n",
    "use project or location name.\n"
   ]
  },
  {
   "cell_type": "code",
   "execution_count": null,
   "id": "a8941d84d23166c6",
   "metadata": {
    "ExecuteTime": {
     "end_time": "2024-11-15T04:25:49.600790Z",
     "start_time": "2024-11-15T04:25:49.593782Z"
    }
   },
   "outputs": [],
   "source": [
    "fileout_prefix = \"demo\""
   ]
  },
  {
   "cell_type": "markdown",
   "id": "9e004f5a018f769f",
   "metadata": {},
   "source": [
    "## Download point data\n",
    "Use point_data_urlfilenames and download_multithread to download the closest node for the desired variables into the target cache folder."
   ]
  },
  {
   "cell_type": "code",
   "execution_count": null,
   "id": "6eb2061081ab7697",
   "metadata": {
    "ExecuteTime": {
     "end_time": "2024-11-15T04:25:52.781921Z",
     "start_time": "2024-11-15T04:25:51.281738Z"
    }
   },
<<<<<<< HEAD
   "outputs": [],
   "source": [
    "urlfilenames = barra2_dl.download.point_data_urlfilenames(\n",
    "    barra2_url = barra2_aus11_url,\n",
=======
   "outputs": [
    {
     "name": "stdout",
     "output_type": "stream",
     "text": [
      "<demo_ua50m_20230101_20230131.csv> already exists in the folder <cache>\n",
      "<demo_ua50m_20230201_20230228.csv> already exists in the folder <cache>\n",
      "<demo_ua50m_20230301_20230331.csv> already exists in the folder <cache>\n",
      "<demo_va50m_20230101_20230131.csv> already exists in the folder <cache>\n",
      "<demo_va50m_20230201_20230228.csv> already exists in the folder <cache>\n",
      "<demo_va50m_20230301_20230331.csv> already exists in the folder <cache>\n",
      "<demo_ua100m_20230101_20230131.csv> already exists in the folder <cache>\n",
      "<demo_ua100m_20230201_20230228.csv> already exists in the folder <cache>\n",
      "<demo_ua100m_20230301_20230331.csv> already exists in the folder <cache>\n",
      "<demo_va100m_20230101_20230131.csv> already exists in the folder <cache>\n",
      "<demo_va100m_20230201_20230228.csv> already exists in the folder <cache>\n",
      "<demo_va100m_20230301_20230331.csv> already exists in the folder <cache>\n",
      "<demo_ua150m_20230101_20230131.csv> already exists in the folder <cache>\n",
      "<demo_ua150m_20230201_20230228.csv> already exists in the folder <cache>\n",
      "<demo_ua150m_20230301_20230331.csv> already exists in the folder <cache>\n",
      "<demo_va150m_20230101_20230131.csv> already exists in the folder <cache>\n",
      "<demo_va150m_20230201_20230228.csv> already exists in the folder <cache>\n",
      "<demo_va150m_20230301_20230331.csv> already exists in the folder <cache>\n",
      "<demo_ta50m_20230101_20230131.csv> downloaded to <cache>\n",
      "<demo_ta50m_20230201_20230228.csv> already exists in the folder <cache>\n",
      "<demo_ta50m_20230301_20230331.csv> already exists in the folder <cache>\n"
     ]
    }
   ],
   "source": [
    "urlfilenames = barra2_dl.download.point_data_urlfilenames(\n",
>>>>>>> origin/main
    "    barra2_vars = barra2_var_wind_default,\n",
    "    latitude = lat_lon_point.lat,\n",
    "    longitude = lat_lon_point.lon,\n",
    "    start_datetime= start_datetime,\n",
    "    end_datetime = end_datetime,\n",
    "    fileout_prefix = fileout_prefix,\n",
    ")\n",
    "# Use download_multithread with n-1 threads or download_serial with 1 thread\n",
    "barra2_dl.download.download_multithread(urlfilenames, cache_dir)"
   ]
  },
  {
   "cell_type": "markdown",
   "id": "6a0852832b636755",
   "metadata": {},
   "source": [
    "## Combine data\n",
    "Merge downloaded csvs into a new dataframe. Optionally export merged data to a new csv."
   ]
  },
  {
   "cell_type": "code",
   "execution_count": null,
   "id": "12548db7293cfa01",
   "metadata": {
    "ExecuteTime": {
     "end_time": "2024-11-15T03:59:52.196620Z",
     "start_time": "2024-11-15T03:59:52.042719Z"
    }
   },
<<<<<<< HEAD
   "outputs": [],
=======
   "outputs": [
    {
     "name": "stdout",
     "output_type": "stream",
     "text": [
      "Merged file: cache\\demo_ta50m_20230201_20230228.csv\n",
      "Merged file: cache\\demo_ta50m_20230301_20230331.csv\n",
      "Merged file: cache\\demo_ua100m_20230101_20230131.csv\n",
      "Merged file: cache\\demo_ua100m_20230201_20230228.csv\n",
      "Merged file: cache\\demo_ua100m_20230301_20230331.csv\n",
      "Merged file: cache\\demo_ua150m_20230101_20230131.csv\n",
      "Merged file: cache\\demo_ua150m_20230201_20230228.csv\n",
      "Merged file: cache\\demo_ua150m_20230301_20230331.csv\n",
      "Merged file: cache\\demo_ua50m_20230101_20230131.csv\n",
      "Merged file: cache\\demo_ua50m_20230201_20230228.csv\n",
      "Merged file: cache\\demo_ua50m_20230301_20230331.csv\n",
      "Merged file: cache\\demo_va100m_20230101_20230131.csv\n",
      "Merged file: cache\\demo_va100m_20230201_20230228.csv\n",
      "Merged file: cache\\demo_va100m_20230301_20230331.csv\n",
      "Merged file: cache\\demo_va150m_20230101_20230131.csv\n",
      "Merged file: cache\\demo_va150m_20230201_20230228.csv\n",
      "Merged file: cache\\demo_va150m_20230301_20230331.csv\n",
      "Merged file: cache\\demo_va50m_20230101_20230131.csv\n",
      "Merged file: cache\\demo_va50m_20230201_20230228.csv\n",
      "Merged file: cache\\demo_va50m_20230301_20230331.csv\n",
      "                   time                                 station  \\\n",
      "0  2023-01-01T00:00:00Z  GridPointRequestedAt[23.553S_133.396E]   \n",
      "1  2023-01-01T01:00:00Z  GridPointRequestedAt[23.553S_133.396E]   \n",
      "2  2023-01-01T02:00:00Z  GridPointRequestedAt[23.553S_133.396E]   \n",
      "3  2023-01-01T03:00:00Z  GridPointRequestedAt[23.553S_133.396E]   \n",
      "4  2023-01-01T04:00:00Z  GridPointRequestedAt[23.553S_133.396E]   \n",
      "\n",
      "   latitude[unit=\"degrees_north\"]  longitude[unit=\"degrees_east\"]  \\\n",
      "0                          -23.54                          133.36   \n",
      "1                          -23.54                          133.36   \n",
      "2                          -23.54                          133.36   \n",
      "3                          -23.54                          133.36   \n",
      "4                          -23.54                          133.36   \n",
      "\n",
      "   ta50m[unit=\"K\"]  ua100m[unit=\"m s-1\"]  ua150m[unit=\"m s-1\"]  \\\n",
      "0       300.110962             -3.625732             -3.757568   \n",
      "1       301.610962             -5.584717             -5.862305   \n",
      "2       303.607483             -7.793701             -8.112305   \n",
      "3       304.360962             -8.835693             -9.174805   \n",
      "4       304.985962             -9.648193             -9.952393   \n",
      "\n",
      "   ua50m[unit=\"m s-1\"]  va100m[unit=\"m s-1\"]  va150m[unit=\"m s-1\"]  \\\n",
      "0            -3.385254             -2.604492             -2.659912   \n",
      "1            -5.174316             -3.062500             -3.097412   \n",
      "2            -7.213135             -3.729492             -3.820068   \n",
      "3            -8.184570             -2.896484             -2.972412   \n",
      "4            -8.997070             -2.229492             -2.284912   \n",
      "\n",
      "   va50m[unit=\"m s-1\"]  \n",
      "0            -2.505127  \n",
      "1            -2.976562  \n",
      "2            -3.572754  \n",
      "3            -2.755127  \n",
      "4            -2.101562  \n"
     ]
    }
   ],
>>>>>>> origin/main
   "source": [
    "df_merged = barra2_dl.merge.merge_csvs_to_df(\n",
    "    filein_folder= cache_dir,\n",
    "    filename_pattern=f'{fileout_prefix}*.csv',\n",
    "    index_for_join=BARRA2_AUS11_INDEX,\n",
    ")\n",
    "print(df_merged.head())"
   ]
  },
  {
   "cell_type": "code",
   "execution_count": null,
   "id": "9fcabb6dab8b3f7c",
   "metadata": {
    "ExecuteTime": {
     "end_time": "2024-11-15T04:00:02.498526Z",
     "start_time": "2024-11-15T04:00:02.475887Z"
    }
   },
   "outputs": [],
   "source": [
    "df_merged.to_csv(Path(output_dir) / f\"{fileout_prefix}_merged_{start_datetime.strftime(\"%Y%m%d\")}_{end_datetime.strftime(\"%Y%m%d\")}.csv\", index=False)"
   ]
  },
  {
   "cell_type": "markdown",
   "id": "eb904b882389f8d8",
   "metadata": {},
   "source": [
    "## Convert wind speed components\n",
    "Using the merged dataframe, convert ua and va to v and phi_met, and export to new csv file"
   ]
  },
  {
   "cell_type": "code",
   "execution_count": null,
   "id": "9dd54cba096e6ea2",
   "metadata": {
    "ExecuteTime": {
     "end_time": "2024-11-15T04:00:04.917610Z",
     "start_time": "2024-11-15T04:00:04.876010Z"
    }
   },
<<<<<<< HEAD
   "outputs": [],
=======
   "outputs": [
    {
     "name": "stdout",
     "output_type": "stream",
     "text": [
      "Converted: ua50m[unit=\"m s-1\"], va50m[unit=\"m s-1\"]\n",
      "Converted: ua100m[unit=\"m s-1\"], va100m[unit=\"m s-1\"]\n",
      "Converted: ua150m[unit=\"m s-1\"], va150m[unit=\"m s-1\"]\n",
      "                   time                                 station  \\\n",
      "0  2023-01-01T00:00:00Z  GridPointRequestedAt[23.553S_133.396E]   \n",
      "1  2023-01-01T01:00:00Z  GridPointRequestedAt[23.553S_133.396E]   \n",
      "2  2023-01-01T02:00:00Z  GridPointRequestedAt[23.553S_133.396E]   \n",
      "3  2023-01-01T03:00:00Z  GridPointRequestedAt[23.553S_133.396E]   \n",
      "4  2023-01-01T04:00:00Z  GridPointRequestedAt[23.553S_133.396E]   \n",
      "\n",
      "   latitude[unit=\"degrees_north\"]  longitude[unit=\"degrees_east\"]  \\\n",
      "0                          -23.54                          133.36   \n",
      "1                          -23.54                          133.36   \n",
      "2                          -23.54                          133.36   \n",
      "3                          -23.54                          133.36   \n",
      "4                          -23.54                          133.36   \n",
      "\n",
      "   ta50m[unit=\"K\"]  ua100m[unit=\"m s-1\"]  ua150m[unit=\"m s-1\"]  \\\n",
      "0       300.110962             -3.625732             -3.757568   \n",
      "1       301.610962             -5.584717             -5.862305   \n",
      "2       303.607483             -7.793701             -8.112305   \n",
      "3       304.360962             -8.835693             -9.174805   \n",
      "4       304.985962             -9.648193             -9.952393   \n",
      "\n",
      "   ua50m[unit=\"m s-1\"]  va100m[unit=\"m s-1\"]  va150m[unit=\"m s-1\"]  \\\n",
      "0            -3.385254             -2.604492             -2.659912   \n",
      "1            -5.174316             -3.062500             -3.097412   \n",
      "2            -7.213135             -3.729492             -3.820068   \n",
      "3            -8.184570             -2.896484             -2.972412   \n",
      "4            -8.997070             -2.229492             -2.284912   \n",
      "\n",
      "   va50m[unit=\"m s-1\"]  v50m[unit=\"m s-1\"]  v50m_phi_met[unit=\"degrees\"]  \\\n",
      "0            -2.505127            4.211366                     53.498132   \n",
      "1            -2.976562            5.969378                     60.090027   \n",
      "2            -3.572754            8.049465                     63.650223   \n",
      "3            -2.755127            8.635851                     71.395506   \n",
      "4            -2.101562            9.239255                     76.852413   \n",
      "\n",
      "   v100m[unit=\"m s-1\"]  v100m_phi_met[unit=\"degrees\"]  v150m[unit=\"m s-1\"]  \\\n",
      "0             4.464226                      54.308972             4.603743   \n",
      "1             6.369299                      61.260888             6.630277   \n",
      "2             8.640075                      64.427652             8.966739   \n",
      "3             9.298339                      71.850013             9.644287   \n",
      "4             9.902438                      76.988548            10.211314   \n",
      "\n",
      "   v150m_phi_met[unit=\"degrees\"]  \n",
      "0                      54.706039  \n",
      "1                      62.149782  \n",
      "2                      64.784346  \n",
      "3                      72.048945  \n",
      "4                      77.069864  \n"
     ]
    }
   ],
>>>>>>> origin/main
   "source": [
    "df_converted = barra2_dl.convert.convert_wind_components(df_merged)\n",
    "print(df_converted.head())"
   ]
  },
  {
   "cell_type": "code",
   "execution_count": null,
   "id": "1eb0d0354648eef4",
   "metadata": {
    "ExecuteTime": {
     "end_time": "2024-11-15T04:00:07.587564Z",
     "start_time": "2024-11-15T04:00:07.559323Z"
    }
   },
   "outputs": [],
   "source": [
    "df_converted.to_csv(Path(output_dir) / f\"{fileout_prefix}_converted_{start_datetime.strftime(\"%Y%m%d\")}_{end_datetime.strftime(\"%Y%m%d\")}.csv\", index=False)"
   ]
  },
  {
   "cell_type": "markdown",
   "id": "cc2c7f69e36cdfe8",
   "metadata": {},
   "source": [
    "The merged and converted data is now ready to import into your favourite wind analysis program..."
   ]
  }
 ],
 "metadata": {
  "kernelspec": {
   "display_name": "Python 3",
   "language": "python",
   "name": "python3"
  },
  "language_info": {
   "codemirror_mode": {
    "name": "ipython",
    "version": 3
   },
   "file_extension": ".py",
   "mimetype": "text/x-python",
   "name": "python",
   "nbconvert_exporter": "python",
<<<<<<< HEAD
   "pygments_lexer": "ipython3",
=======
   "pygments_lexer": "ipython2",
>>>>>>> origin/main
   "version": "3.12.6"
  }
 },
 "nbformat": 4,
 "nbformat_minor": 5
}
